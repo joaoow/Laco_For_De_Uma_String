{
  "nbformat": 4,
  "nbformat_minor": 0,
  "metadata": {
    "colab": {
      "provenance": []
    },
    "kernelspec": {
      "name": "python3",
      "display_name": "Python 3"
    },
    "language_info": {
      "name": "python"
    }
  },
  "cells": [
    {
      "cell_type": "code",
      "execution_count": 4,
      "metadata": {
        "colab": {
          "base_uri": "https://localhost:8080/"
        },
        "id": "Hm3kmfEJDg-s",
        "outputId": "c25f10a0-e876-4c24-dbd3-9abb1623d04f"
      },
      "outputs": [
        {
          "output_type": "stream",
          "name": "stdout",
          "text": [
            "Digite seu nome: joaozinho\n",
            "j\n",
            "o\n",
            "a\n",
            "o\n",
            "z\n",
            "i\n",
            "n\n",
            "h\n",
            "o\n"
          ]
        }
      ],
      "source": [
        "# A linha 1 faz com que a palavra inserida pelo usuário seja armazenada na variável nome;\n",
        "# A linha 2 mostra a criação do laço, com a variável letra percorrendo a sequência de caracteres armazenada na variável nome;\n",
        "# A linha 3 indica a instrução que será executada para cada repetição desse laço. O laço for executará\n",
        "# a instrução da linha 3 tantas vezes quanto forem os elementos da sequência que está na variável nome.\n",
        "\n",
        "nome = input('Digite seu nome: ')\n",
        "for letra in nome:\n",
        "  print(letra)"
      ]
    }
  ]
}